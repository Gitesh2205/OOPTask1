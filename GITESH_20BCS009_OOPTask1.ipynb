{
  "nbformat": 4,
  "nbformat_minor": 0,
  "metadata": {
    "colab": {
      "name": "GITESH_20BCS009-OOPTask1.ipynb",
      "provenance": [],
      "collapsed_sections": [],
      "authorship_tag": "ABX9TyP/smiVKsIXlSkd2oUYPwLP",
      "include_colab_link": true
    },
    "kernelspec": {
      "name": "python3",
      "display_name": "Python 3"
    },
    "language_info": {
      "name": "python"
    }
  },
  "cells": [
    {
      "cell_type": "markdown",
      "metadata": {
        "id": "view-in-github",
        "colab_type": "text"
      },
      "source": [
        "<a href=\"https://colab.research.google.com/github/Gitesh2205/OOPTask1/blob/main/GITESH_20BCS009_OOPTask1.ipynb\" target=\"_parent\"><img src=\"https://colab.research.google.com/assets/colab-badge.svg\" alt=\"Open In Colab\"/></a>"
      ]
    },
    {
      "cell_type": "code",
      "metadata": {
        "colab": {
          "base_uri": "https://localhost:8080/"
        },
        "id": "Iv9prAYiDg1q",
        "outputId": "65e58c30-87d1-49f3-944e-81ce42de214f"
      },
      "source": [
        "#q.no.1\n",
        "# Python program to check leap year or not\n",
        "def yearCheck(year):\n",
        "\tif (year % 4) == 0:\n",
        "\t\tif (year % 100) == 0:\n",
        "\t\t\tif (year % 400) == 0:\n",
        "\t\t\t\treturn True\n",
        "\t\t\telse:\n",
        "\t\t\t\treturn False\n",
        "\t\telse:\n",
        "\t\t\treturn True\n",
        "\telse:\n",
        "\t\treturn False\n",
        "\n",
        "\n",
        "year = 2024\n",
        "if(yearCheck(year)):\n",
        "\tprint(\"The given year is a leap Year\")\n",
        "else:\n",
        "\tprint(\"The given year is not a Leap Year\")\n",
        "\t\n"
      ],
      "execution_count": 35,
      "outputs": [
        {
          "output_type": "stream",
          "name": "stdout",
          "text": [
            "The given year is a leap Year\n"
          ]
        }
      ]
    },
    {
      "cell_type": "code",
      "metadata": {
        "colab": {
          "base_uri": "https://localhost:8080/"
        },
        "id": "zu9IHDjhLPs-",
        "outputId": "b34b81f9-dee1-498d-eab4-f7fbb93ef0e7"
      },
      "source": [
        "\"\"\"Given an integer ‘n’, write a python code to perform the following conditional actions:\n",
        "1. If ‘n’ is odd, print Weird\n",
        "2. If ‘n’ is even and in the inclusive range of 2 to 5, print Not Weird\n",
        "3. If ‘n’ is even and in the inclusive range of 6 to 20, print Weird\n",
        "4. If ‘n’ is even and greater than 20, print Not Weird\"\"\"\n",
        "\n",
        "n=int(input())\n",
        "if n%2==1:\n",
        "  print(\"Weird\")\n",
        "elif n%2==0 and 2 <= n <= 5:\n",
        "    print(\"Not weird\")\n",
        "elif n%2==0 and 6 <= n <= 20:\n",
        "      print(\"Weird\")\n",
        "else:\n",
        "        print(\"Not weird\")"
      ],
      "execution_count": 21,
      "outputs": [
        {
          "output_type": "stream",
          "name": "stdout",
          "text": [
            "44\n",
            "Not weird\n"
          ]
        }
      ]
    },
    {
      "cell_type": "code",
      "metadata": {
        "id": "LM5aeF1SN3us"
      },
      "source": [
        "#Q.no. 3 to chech who is fashionably late.\n",
        "#ans:\n",
        "\n",
        "def fashionably_late(arrivals, name):\n",
        "    \n",
        "    name_index=arrivals.index(name) #This line of code is working fine.\n",
        "    final_index_of_list=arrivals.index((len(arrivals)-1))\n",
        "    print(final_index_of_list)\n",
        "    if final_index_of_list%2==0:\n",
        "        return False if name_index<=(final_index_of_list/2) or name_index==final_index_of_list else True\n",
        "    elif final_index_of_list%2>0:\n",
        "        return False if name_index<=(final_index_of_list/2+1) or name_index==final_index_of_list else True"
      ],
      "execution_count": 22,
      "outputs": []
    },
    {
      "cell_type": "code",
      "metadata": {
        "colab": {
          "base_uri": "https://localhost:8080/"
        },
        "id": "iz4HY6ZSQtnF",
        "outputId": "53f151fd-6e59-4108-dcf7-126661a34fbd"
      },
      "source": [
        "#Q.NO.4 \n",
        "#Ans:\n",
        "\n",
        "def word_search(title_list, keyword):\n",
        "\n",
        "    keyword = keyword.lower().strip('.,')\n",
        "\n",
        "    result_list = []\n",
        "    for i, title in enumerate(title_list):\n",
        "        \n",
        "        words = title.lower().strip('.,').split()\n",
        "\n",
        "        if keyword in words:\n",
        "            result_list.append((i, title))\n",
        "\n",
        "    return result_list\n",
        "\n",
        "if __name__ == '__main__':\n",
        "    docs = [\n",
        "        \"The learn python challenge Rohit\",\"They bought a car\",\"banglore\"\n",
        "    ]\n",
        "    w = 'bought'\n",
        "\n",
        "    print(word_search(docs, w))\n"
      ],
      "execution_count": 30,
      "outputs": [
        {
          "output_type": "stream",
          "name": "stdout",
          "text": [
            "[(1, 'They bought a car')]\n"
          ]
        }
      ]
    },
    {
      "cell_type": "code",
      "metadata": {
        "colab": {
          "base_uri": "https://localhost:8080/"
        },
        "id": "AUqJCW3DSSjX",
        "outputId": "e642eddc-559b-4840-a6fd-c619b65882d2"
      },
      "source": [
        "# Program to calculate gross pay of employee.\n",
        "#Q.no.5\n",
        "print(\"enter your basic pay\")\n",
        "Bp=int(input())\n",
        "DA=0.4*Bp\n",
        "HRA=0.2*Bp\n",
        "Gross_pay=Bp+DA+HRA\n",
        "print(Gross_pay)"
      ],
      "execution_count": 34,
      "outputs": [
        {
          "output_type": "stream",
          "name": "stdout",
          "text": [
            "enter your basic pay\n",
            "4000\n",
            "6400.0\n"
          ]
        }
      ]
    },
    {
      "cell_type": "code",
      "metadata": {
        "id": "rqzm5H-oWYrL"
      },
      "source": [
        ""
      ],
      "execution_count": null,
      "outputs": []
    }
  ]
}